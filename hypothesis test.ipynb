{
 "cells": [
  {
   "cell_type": "code",
   "execution_count": null,
   "id": "496c241a",
   "metadata": {},
   "outputs": [],
   "source": [
    "# Hypothesis testing is of two types:\n",
    "\n",
    "One-tailed test\n",
    "Two-tailed test"
   ]
  },
  {
   "cell_type": "code",
   "execution_count": 1,
   "id": "4b0a559a",
   "metadata": {},
   "outputs": [
    {
     "name": "stdout",
     "output_type": "stream",
     "text": [
      "DescribeResult(nobs=100, minmax=(-3.1897027892252625, 2.094665338082445), mean=-0.05452698880971828, variance=1.1619891729742677, skewness=-0.37835830794254766, kurtosis=-0.22038541510131981)\n"
     ]
    }
   ],
   "source": [
    "import numpy as np\n",
    "from scipy.stats import describe\n",
    "np.random.seed(20)\n",
    "v = np.random.normal(size=100)\n",
    "# print(v)\n",
    "result = describe(v)\n",
    "print(result)"
   ]
  },
  {
   "cell_type": "code",
   "execution_count": null,
   "id": "360be229-a8cd-4161-bcff-93203332f127",
   "metadata": {},
   "outputs": [],
   "source": [
    "#t test"
   ]
  },
  {
   "cell_type": "code",
   "execution_count": 2,
   "id": "7ad9edd1-c76b-47fb-b4d1-aac60de992a5",
   "metadata": {},
   "outputs": [
    {
     "name": "stdout",
     "output_type": "stream",
     "text": [
      "TtestResult(statistic=-0.9581816204068413, pvalue=0.33913970889048073, df=198.0)\n"
     ]
    }
   ],
   "source": [
    "import numpy as np\n",
    "from scipy.stats import ttest_ind\n",
    "np.random.seed(20)\n",
    "sample1 = np.random.normal(size=100)\n",
    "sample2= np.random.normal(size=100)\n",
    "res = ttest_ind(sample1, sample2)\n",
    "print(res)"
   ]
  },
  {
   "cell_type": "code",
   "execution_count": 3,
   "id": "444f1790-22aa-4730-a537-dd36e8993374",
   "metadata": {},
   "outputs": [
    {
     "name": "stdout",
     "output_type": "stream",
     "text": [
      "198.0\n"
     ]
    }
   ],
   "source": [
    "res = ttest_ind(sample1, sample2).df\n",
    "print(res)"
   ]
  },
  {
   "cell_type": "code",
   "execution_count": null,
   "id": "90e5de6d-8fbb-4103-aedf-6ad9d2e0e952",
   "metadata": {},
   "outputs": [],
   "source": [
    "One-sample t-test example in Python\n",
    "Let us learn how to conduct a one-sample t-test in Python using the scipy.stats.ttest_1samp() function."
   ]
  },
  {
   "cell_type": "code",
   "execution_count": 6,
   "id": "e3d2ef62-3939-4e54-be72-96d756767a7b",
   "metadata": {},
   "outputs": [
    {
     "name": "stdout",
     "output_type": "stream",
     "text": [
      "t-statistic = 4.347224744703185\n",
      "p-value = 0.0003124306418742825\n"
     ]
    }
   ],
   "source": [
    "import numpy as np  \n",
    "from scipy import stats  \n",
    "# Population Mean \n",
    "mu = 10\n",
    "# Sample Size\n",
    "N1 = 21\n",
    "# Degrees of freedom  \n",
    "dof = N1 - 1\n",
    "# Generate a random sample with mean = 11 and standard deviation = 1\n",
    "x = np.random.randn(N1) + 11\n",
    "# print(x)\n",
    "# Using the Stats library, compute t-statistic and p-value\n",
    "t_stat, p_val = stats.ttest_1samp(a=x, popmean = mu)\n",
    "print(\"t-statistic = \" + str(t_stat))  \n",
    "print(\"p-value = \" + str(p_val)) \n"
   ]
  },
  {
   "cell_type": "code",
   "execution_count": 7,
   "id": "28900ee8-997b-4daf-9d63-820d487a1756",
   "metadata": {},
   "outputs": [
    {
     "data": {
      "text/plain": [
       "['In',\n",
       " 'N1',\n",
       " 'Out',\n",
       " '_',\n",
       " '__',\n",
       " '___',\n",
       " '__builtin__',\n",
       " '__builtins__',\n",
       " '__doc__',\n",
       " '__loader__',\n",
       " '__name__',\n",
       " '__package__',\n",
       " '__session__',\n",
       " '__spec__',\n",
       " '_dh',\n",
       " '_i',\n",
       " '_i1',\n",
       " '_i2',\n",
       " '_i3',\n",
       " '_i4',\n",
       " '_i5',\n",
       " '_i6',\n",
       " '_i7',\n",
       " '_ih',\n",
       " '_ii',\n",
       " '_iii',\n",
       " '_oh',\n",
       " 'describe',\n",
       " 'dof',\n",
       " 'exit',\n",
       " 'get_ipython',\n",
       " 'mu',\n",
       " 'np',\n",
       " 'open',\n",
       " 'p_val',\n",
       " 'p_value',\n",
       " 'pvalue',\n",
       " 'quit',\n",
       " 'res',\n",
       " 'result',\n",
       " 'sample1',\n",
       " 'sample2',\n",
       " 'stats',\n",
       " 't_stat',\n",
       " 'ttest_ind',\n",
       " 'v',\n",
       " 'x']"
      ]
     },
     "execution_count": 7,
     "metadata": {},
     "output_type": "execute_result"
    }
   ],
   "source": [
    "dir() #"
   ]
  },
  {
   "cell_type": "code",
   "execution_count": 8,
   "id": "078ede75-e833-4591-a185-57e04deab120",
   "metadata": {},
   "outputs": [],
   "source": [
    "del res"
   ]
  },
  {
   "cell_type": "code",
   "execution_count": 9,
   "id": "55ff4d2f-1ea7-48ee-b241-f8d0787074bc",
   "metadata": {},
   "outputs": [
    {
     "ename": "NameError",
     "evalue": "name 'res' is not defined",
     "output_type": "error",
     "traceback": [
      "\u001b[1;31m---------------------------------------------------------------------------\u001b[0m",
      "\u001b[1;31mNameError\u001b[0m                                 Traceback (most recent call last)",
      "Cell \u001b[1;32mIn[9], line 1\u001b[0m\n\u001b[1;32m----> 1\u001b[0m res\n",
      "\u001b[1;31mNameError\u001b[0m: name 'res' is not defined"
     ]
    }
   ],
   "source": [
    "res"
   ]
  },
  {
   "cell_type": "code",
   "execution_count": 10,
   "id": "c10d1faf-34d8-48d5-a40e-25e82669902b",
   "metadata": {},
   "outputs": [
    {
     "data": {
      "text/plain": [
       "TtestResult(statistic=4.347224744703185, pvalue=0.0003124306418742825, df=20)"
      ]
     },
     "execution_count": 10,
     "metadata": {},
     "output_type": "execute_result"
    }
   ],
   "source": [
    "stats.ttest_1samp(a=x, popmean = mu)"
   ]
  },
  {
   "cell_type": "code",
   "execution_count": null,
   "id": "56bae531-af09-4018-8825-d7dee93123e9",
   "metadata": {},
   "outputs": [],
   "source": [
    "Interpretation of the test results\n",
    "The value of t-statistic comes out to be 4.69 which seems to be very far from the mean of zero in a t-distribution. \n",
    "To quantify such extreme value, we refer to a p-value (which is introduced in the terminology section). \n",
    "The p-value is less than the default significance level of 0.05, which indicates that \n",
    "the probability of such an extreme outcome is close to zero and that the null hypothesis can be rejected.\n",
    "\n",
    "Note that the significance level is set at the beginning of the experiment."
   ]
  },
  {
   "cell_type": "code",
   "execution_count": null,
   "id": "4bda2c16-625e-42d5-8d8a-c554f67ec15d",
   "metadata": {},
   "outputs": [],
   "source": [
    "Two-sample t-test\n",
    "Let’s consider that the first factory shares 21 samples of ball bearings where the mean diameter of the sample comes out to be 10.5 cm. \n",
    "On the other hand, the second factory shares 25 samples with a mean diameter of 9.5 cm. \n",
    "Both have a standard deviation of 1 cm."
   ]
  },
  {
   "cell_type": "code",
   "execution_count": 11,
   "id": "fdd9279a-8a99-4338-b775-81a3df2f67bd",
   "metadata": {},
   "outputs": [
    {
     "name": "stdout",
     "output_type": "stream",
     "text": [
      "t-statistic = 2.6780753321048367\n",
      "p-value = 0.010370713366117248\n"
     ]
    }
   ],
   "source": [
    "# Sample Sizes\n",
    "N1, N2 = 21, 25\n",
    "# Degrees of freedom  \n",
    "dof = min(N1,N2) - 1\n",
    "# Gaussian distributed data with mean = 10.5 and var = 1  \n",
    "x = np.random.randn(N1) + 10.5\n",
    "# Gaussian distributed data with mean = 9.5 and var = 1  \n",
    "y = np.random.randn(N2) + 9.5\n",
    "## Using the internal function from SciPy Package  \n",
    "t_stat, p_val = stats.ttest_ind(x, y)  \n",
    "print(\"t-statistic = \" + str(t_stat))  \n",
    "print(\"p-value = \" + str(p_val))"
   ]
  },
  {
   "cell_type": "code",
   "execution_count": null,
   "id": "1214e3fb-7166-49a4-a2a3-5e33e2a52c96",
   "metadata": {},
   "outputs": [],
   "source": [
    "Paired t-test example in Python\n",
    "Let’s perform a paired t-test to verify if the change is statistically significant."
   ]
  },
  {
   "cell_type": "code",
   "execution_count": 12,
   "id": "61df6100-92cd-469e-8b42-3ceacbde0bdd",
   "metadata": {},
   "outputs": [
    {
     "name": "stdout",
     "output_type": "stream",
     "text": [
      "t-statistic = 2.5116110611974207\n",
      "p-value = 0.019152226726422927\n"
     ]
    }
   ],
   "source": [
    "np.random.seed(15)\n",
    "# Sample Sizes\n",
    "N = 25\n",
    "# Degrees of freedom  \n",
    "dof = N - 1\n",
    "# Gaussian distributed data with mean = 10.5 and var = 1  \n",
    "Before_training = np.random.randn(N) + 10.5\n",
    "# Gaussian distributed data with mean = 9.9 and var = 1  \n",
    "after_training = np.random.randn(N) + 9.9\n",
    "t_stat, p_val = stats.ttest_rel(Before_training,after_training)\n",
    "print(\"t-statistic = \" + str(t_stat))  \n",
    "print(\"p-value = \" + str(p_val))"
   ]
  },
  {
   "cell_type": "code",
   "execution_count": null,
   "id": "a7a9040a-ae11-4a53-a9b7-5f38f740686f",
   "metadata": {},
   "outputs": [],
   "source": [
    "Interpretation of the test results\n",
    "if the p value is higher, The higher p-value indicates that the null hypothesis is accepted, i.e., there is a change in training program. "
   ]
  },
  {
   "cell_type": "code",
   "execution_count": null,
   "id": "04014e45-1f6c-4b50-a0f6-1e97a46cc71b",
   "metadata": {},
   "outputs": [],
   "source": [
    "Chisquares test"
   ]
  },
  {
   "cell_type": "code",
   "execution_count": 13,
   "id": "3edf8c47-e5c6-4714-9c85-4d835887b2ef",
   "metadata": {},
   "outputs": [
    {
     "name": "stdout",
     "output_type": "stream",
     "text": [
      "            0\n",
      "0       white\n",
      "1       white\n",
      "2       white\n",
      "3       white\n",
      "4       white\n",
      "...       ...\n",
      "259995  other\n",
      "259996  other\n",
      "259997  other\n",
      "259998  other\n",
      "259999  other\n",
      "\n",
      "[260000 rows x 1 columns]\n",
      "National\n",
      "col_0      count\n",
      "0               \n",
      "asian      15000\n",
      "black      50000\n",
      "hispanic   60000\n",
      "other      35000\n",
      "white     100000\n",
      " \n",
      "Minnesota\n",
      "col_0     count\n",
      "0              \n",
      "asian        75\n",
      "black       250\n",
      "hispanic    300\n",
      "other       150\n",
      "white       600\n"
     ]
    }
   ],
   "source": [
    "import numpy as np\n",
    "import pandas as pd\n",
    "import scipy.stats as stats\n",
    "national = pd.DataFrame([\"white\"]*100000 + [\"hispanic\"]*60000 +\\\n",
    "                        [\"black\"]*50000 + [\"asian\"]*15000 + [\"other\"]*35000)\n",
    "minnesota = pd.DataFrame([\"white\"]*600 + [\"hispanic\"]*300 + \\\n",
    "                         [\"black\"]*250 +[\"asian\"]*75 + [\"other\"]*150)\n",
    "\n",
    "print(national)\n",
    "\n",
    "national_table = pd.crosstab(index=national[0], columns=\"count\")\n",
    "minnesota_table = pd.crosstab(index=minnesota[0], columns=\"count\")\n",
    "\n",
    "print( \"National\")\n",
    "print(national_table)\n",
    "print(\" \")\n",
    "print( \"Minnesota\")\n",
    "print(minnesota_table)"
   ]
  },
  {
   "cell_type": "code",
   "execution_count": 14,
   "id": "de8781cf-2acc-48ff-97c6-d83cb4a760e3",
   "metadata": {},
   "outputs": [
    {
     "name": "stdout",
     "output_type": "stream",
     "text": [
      "col_0\n",
      "count    18.194805\n",
      "dtype: float64\n",
      "Critical value: 9.487729036781154\n",
      "\n",
      "P value: [0.00113047]\n",
      "\n"
     ]
    }
   ],
   "source": [
    "national_ratios = national_table/len(national)  # Get population ratios\n",
    "\n",
    "observed = minnesota_table\n",
    "expected = national_ratios * len(minnesota)   # Get expected counts\n",
    "\n",
    "# chi_square statistics\n",
    "chi_squared_stat = (((observed-expected)**2)/expected).sum()\n",
    "print(chi_squared_stat)\n",
    "\n",
    "crit = stats.chi2.ppf(q = 0.95, # Find the critical value for 95% confidence*\n",
    "                      df = 4)   # Df = number of variable categories - 1\n",
    "print(\"Critical value:\", crit)\n",
    "print()\n",
    "\n",
    "p_value = 1 - stats.chi2.cdf(x=chi_squared_stat,  # Find the p-value\n",
    "                             df=4)\n",
    "print(\"P value:\",p_value)\n",
    "print()"
   ]
  },
  {
   "cell_type": "code",
   "execution_count": 15,
   "id": "63692b35-68ac-44a5-9479-09037f0e8947",
   "metadata": {},
   "outputs": [
    {
     "data": {
      "text/plain": [
       "Power_divergenceResult(statistic=array([18.19480519]), pvalue=array([0.00113047]))"
      ]
     },
     "execution_count": 15,
     "metadata": {},
     "output_type": "execute_result"
    }
   ],
   "source": [
    "stats.chisquare(f_obs= observed,  f_exp= expected)   # Array of expected counts"
   ]
  },
  {
   "cell_type": "code",
   "execution_count": null,
   "id": "d26d54c2-12b6-494b-82d1-5be39c65f2db",
   "metadata": {},
   "outputs": [],
   "source": [
    "#Chi-Squared Test of Independence"
   ]
  },
  {
   "cell_type": "code",
   "execution_count": 16,
   "id": "0923d2a3-5a54-48fb-87a1-4fd08dea860e",
   "metadata": {},
   "outputs": [
    {
     "data": {
      "text/html": [
       "<div>\n",
       "<style scoped>\n",
       "    .dataframe tbody tr th:only-of-type {\n",
       "        vertical-align: middle;\n",
       "    }\n",
       "\n",
       "    .dataframe tbody tr th {\n",
       "        vertical-align: top;\n",
       "    }\n",
       "\n",
       "    .dataframe thead th {\n",
       "        text-align: right;\n",
       "    }\n",
       "</style>\n",
       "<table border=\"1\" class=\"dataframe\">\n",
       "  <thead>\n",
       "    <tr style=\"text-align: right;\">\n",
       "      <th></th>\n",
       "      <th>democrat</th>\n",
       "      <th>independent</th>\n",
       "      <th>republican</th>\n",
       "      <th>row_totals</th>\n",
       "    </tr>\n",
       "  </thead>\n",
       "  <tbody>\n",
       "    <tr>\n",
       "      <th>asian</th>\n",
       "      <td>21</td>\n",
       "      <td>7</td>\n",
       "      <td>32</td>\n",
       "      <td>60</td>\n",
       "    </tr>\n",
       "    <tr>\n",
       "      <th>black</th>\n",
       "      <td>65</td>\n",
       "      <td>25</td>\n",
       "      <td>64</td>\n",
       "      <td>154</td>\n",
       "    </tr>\n",
       "    <tr>\n",
       "      <th>hispanic</th>\n",
       "      <td>107</td>\n",
       "      <td>50</td>\n",
       "      <td>94</td>\n",
       "      <td>251</td>\n",
       "    </tr>\n",
       "    <tr>\n",
       "      <th>other</th>\n",
       "      <td>15</td>\n",
       "      <td>8</td>\n",
       "      <td>15</td>\n",
       "      <td>38</td>\n",
       "    </tr>\n",
       "    <tr>\n",
       "      <th>white</th>\n",
       "      <td>189</td>\n",
       "      <td>96</td>\n",
       "      <td>212</td>\n",
       "      <td>497</td>\n",
       "    </tr>\n",
       "    <tr>\n",
       "      <th>col_totals</th>\n",
       "      <td>397</td>\n",
       "      <td>186</td>\n",
       "      <td>417</td>\n",
       "      <td>1000</td>\n",
       "    </tr>\n",
       "  </tbody>\n",
       "</table>\n",
       "</div>"
      ],
      "text/plain": [
       "            democrat  independent  republican  row_totals\n",
       "asian             21            7          32          60\n",
       "black             65           25          64         154\n",
       "hispanic         107           50          94         251\n",
       "other             15            8          15          38\n",
       "white            189           96         212         497\n",
       "col_totals       397          186         417        1000"
      ]
     },
     "execution_count": 16,
     "metadata": {},
     "output_type": "execute_result"
    }
   ],
   "source": [
    "np.random.seed(10)\n",
    "\n",
    "# Sample data randomly at fixed probabilities\n",
    "voter_race = np.random.choice(a= [\"asian\",\"black\",\"hispanic\",\"other\",\"white\"],\n",
    "                              p = [0.05, 0.15 ,0.25, 0.05, 0.5],\n",
    "                              size=1000)\n",
    "\n",
    "# Sample data randomly at fixed probabilities\n",
    "voter_party = np.random.choice(a= [\"democrat\",\"independent\",\"republican\"],\n",
    "                              p = [0.4, 0.2, 0.4],\n",
    "                              size=1000)\n",
    "\n",
    "voters = pd.DataFrame({\"race\":voter_race, \n",
    "                       \"party\":voter_party})\n",
    "\n",
    "voter_tab = pd.crosstab(voters.race, voters.party, margins = True)\n",
    "\n",
    "voter_tab.columns = [\"democrat\",\"independent\",\"republican\",\"row_totals\"]\n",
    "\n",
    "voter_tab.index = [\"asian\",\"black\",\"hispanic\",\"other\",\"white\",\"col_totals\"]\n",
    "\n",
    "observed = voter_tab.iloc[0:5,0:3]   # Get table without totals for later use\n",
    "voter_tab"
   ]
  },
  {
   "cell_type": "code",
   "execution_count": 17,
   "id": "ace9e6ad-4933-4409-9fdb-f3def484364c",
   "metadata": {},
   "outputs": [
    {
     "name": "stdout",
     "output_type": "stream",
     "text": [
      "         race        party\n",
      "0       white     democrat\n",
      "1       asian   republican\n",
      "2       white  independent\n",
      "3       white   republican\n",
      "4       other     democrat\n",
      "..        ...          ...\n",
      "995     white   republican\n",
      "996  hispanic  independent\n",
      "997     black  independent\n",
      "998     white   republican\n",
      "999     black     democrat\n",
      "\n",
      "[1000 rows x 2 columns]\n"
     ]
    }
   ],
   "source": [
    "print(voters)"
   ]
  },
  {
   "cell_type": "code",
   "execution_count": 18,
   "id": "2f83f252-e768-4cd1-b245-00827598d718",
   "metadata": {},
   "outputs": [
    {
     "data": {
      "text/html": [
       "<div>\n",
       "<style scoped>\n",
       "    .dataframe tbody tr th:only-of-type {\n",
       "        vertical-align: middle;\n",
       "    }\n",
       "\n",
       "    .dataframe tbody tr th {\n",
       "        vertical-align: top;\n",
       "    }\n",
       "\n",
       "    .dataframe thead th {\n",
       "        text-align: right;\n",
       "    }\n",
       "</style>\n",
       "<table border=\"1\" class=\"dataframe\">\n",
       "  <thead>\n",
       "    <tr style=\"text-align: right;\">\n",
       "      <th></th>\n",
       "      <th>democrat</th>\n",
       "      <th>independent</th>\n",
       "      <th>republican</th>\n",
       "    </tr>\n",
       "  </thead>\n",
       "  <tbody>\n",
       "    <tr>\n",
       "      <th>asian</th>\n",
       "      <td>23.820</td>\n",
       "      <td>11.160</td>\n",
       "      <td>25.020</td>\n",
       "    </tr>\n",
       "    <tr>\n",
       "      <th>black</th>\n",
       "      <td>61.138</td>\n",
       "      <td>28.644</td>\n",
       "      <td>64.218</td>\n",
       "    </tr>\n",
       "    <tr>\n",
       "      <th>hispanic</th>\n",
       "      <td>99.647</td>\n",
       "      <td>46.686</td>\n",
       "      <td>104.667</td>\n",
       "    </tr>\n",
       "    <tr>\n",
       "      <th>other</th>\n",
       "      <td>15.086</td>\n",
       "      <td>7.068</td>\n",
       "      <td>15.846</td>\n",
       "    </tr>\n",
       "    <tr>\n",
       "      <th>white</th>\n",
       "      <td>197.309</td>\n",
       "      <td>92.442</td>\n",
       "      <td>207.249</td>\n",
       "    </tr>\n",
       "  </tbody>\n",
       "</table>\n",
       "</div>"
      ],
      "text/plain": [
       "          democrat  independent  republican\n",
       "asian       23.820       11.160      25.020\n",
       "black       61.138       28.644      64.218\n",
       "hispanic    99.647       46.686     104.667\n",
       "other       15.086        7.068      15.846\n",
       "white      197.309       92.442     207.249"
      ]
     },
     "execution_count": 18,
     "metadata": {},
     "output_type": "execute_result"
    }
   ],
   "source": [
    "expected =  np.outer(voter_tab[\"row_totals\"][0:5],\n",
    "                     voter_tab.loc[\"col_totals\"][0:3]) / 1000\n",
    "\n",
    "expected = pd.DataFrame(expected)\n",
    "\n",
    "expected.columns = [\"democrat\",\"independent\",\"republican\"]\n",
    "expected.index = [\"asian\",\"black\",\"hispanic\",\"other\",\"white\"]\n",
    "\n",
    "expected"
   ]
  },
  {
   "cell_type": "code",
   "execution_count": null,
   "id": "a687a2ed-4aa8-4c29-b534-fd74a0b547c7",
   "metadata": {},
   "outputs": [],
   "source": [
    "[[ 23.82 ,  11.16 ,  25.02 ],\n",
    "       [ 61.138,  28.644,  64.218],\n",
    "       [ 99.647,  46.686, 104.667],\n",
    "       [ 15.086,   7.068,  15.846],\n",
    "       [197.309,  92.442, 207.249]]"
   ]
  },
  {
   "cell_type": "code",
   "execution_count": 19,
   "id": "bdacad2a-8b35-4ab9-9c61-bc8ed8d4ee04",
   "metadata": {},
   "outputs": [
    {
     "name": "stdout",
     "output_type": "stream",
     "text": [
      "7.169321280162059\n"
     ]
    }
   ],
   "source": [
    "chi_squared_stat = (((observed-expected)**2)/expected).sum().sum()\n",
    "print(chi_squared_stat)"
   ]
  },
  {
   "cell_type": "code",
   "execution_count": 20,
   "id": "f5a96b2e-628b-4eb1-8012-fb6a340f9a29",
   "metadata": {},
   "outputs": [
    {
     "data": {
      "text/plain": [
       "Power_divergenceResult(statistic=array([1.47078796, 2.50934232, 3.189191  ]), pvalue=array([0.83180311, 0.64296369, 0.52667855]))"
      ]
     },
     "execution_count": 20,
     "metadata": {},
     "output_type": "execute_result"
    }
   ],
   "source": [
    "stats.chisquare(f_obs= observed,  f_exp= expected)"
   ]
  },
  {
   "cell_type": "code",
   "execution_count": 21,
   "id": "2b071ed3-871a-489f-ab6b-4d07ecb90673",
   "metadata": {},
   "outputs": [
    {
     "name": "stdout",
     "output_type": "stream",
     "text": [
      "Critical value:  15.50731305586545\n",
      "P value:  0.518479392948842\n"
     ]
    }
   ],
   "source": [
    "crit = stats.chi2.ppf(q = 0.95, # Find the critical value for 95% confidence*\n",
    "                      df = 8)   # *\n",
    "\n",
    "print(\"Critical value: \",crit)\n",
    "# print(crit)\n",
    "\n",
    "p_value = 1 - stats.chi2.cdf(x=chi_squared_stat,  # Find the p-value\n",
    "                             df=8)\n",
    "print(\"P value: \",p_value)\n",
    "# print(p_value)"
   ]
  },
  {
   "cell_type": "code",
   "execution_count": 22,
   "id": "77c3072f-3b79-4338-a53d-e18554b74144",
   "metadata": {},
   "outputs": [
    {
     "data": {
      "text/plain": [
       "Chi2ContingencyResult(statistic=7.169321280162059, pvalue=0.518479392948842, dof=8, expected_freq=array([[ 23.82 ,  11.16 ,  25.02 ],\n",
       "       [ 61.138,  28.644,  64.218],\n",
       "       [ 99.647,  46.686, 104.667],\n",
       "       [ 15.086,   7.068,  15.846],\n",
       "       [197.309,  92.442, 207.249]]))"
      ]
     },
     "execution_count": 22,
     "metadata": {},
     "output_type": "execute_result"
    }
   ],
   "source": [
    "stats.chi2_contingency(observed= observed)"
   ]
  },
  {
   "cell_type": "code",
   "execution_count": null,
   "id": "439faca7-9d76-4938-a850-69fc3609769c",
   "metadata": {},
   "outputs": [],
   "source": [
    "#ANOVA\n",
    "One-Way ANOVA\n",
    "The one-way ANOVA tests whether the mean of some numeric variable differs across the levels of one categorical variable. \n",
    "It essentially answers the question: do any of the group means differ from one another? We won't get into the details of\n",
    "carrying out an ANOVA by hand as it involves more calculations than the t-test, but the process is similar: you go through \n",
    "several calculations to arrive at a test statistic and then you compare the test statistic to a critical value based \n",
    "on a probability distribution. In the case of the ANOVA, you use the \"f-distribution\".\n",
    "The scipy library has a function for carrying out one-way ANOVA tests called scipy.stats.f_oneway(). \n",
    "Let's generate some fake voter age and demographic data and use the ANOVA to compare average ages across the groups:"
   ]
  },
  {
   "cell_type": "code",
   "execution_count": 23,
   "id": "4ddbd656-6b86-4217-a541-44964959cf09",
   "metadata": {},
   "outputs": [],
   "source": [
    "np.random.seed(12)\n",
    "races =   [\"asian\",\"black\",\"hispanic\",\"other\",\"white\"]\n",
    "\n",
    "# Generate random data\n",
    "voter_race = np.random.choice(a= races,\n",
    "                              p = [0.05, 0.15 ,0.25, 0.05, 0.5],\n",
    "                              size=1000)\n",
    "voter_age = stats.poisson.rvs(loc=18,\n",
    "                              mu=30,\n",
    "                              size=1000)\n",
    "# Group age data by race\n",
    "voter_frame = pd.DataFrame({\"race\":voter_race,\"age\":voter_age})\n",
    "groups = voter_frame.groupby(\"race\").groups\n",
    "\n",
    "# Extract individual groups\n",
    "asian = voter_age[groups[\"asian\"]]\n",
    "black = voter_age[groups[\"black\"]]\n",
    "hispanic = voter_age[groups[\"hispanic\"]]\n",
    "other = voter_age[groups[\"other\"]]\n",
    "white = voter_age[groups[\"white\"]]"
   ]
  },
  {
   "cell_type": "code",
   "execution_count": 24,
   "id": "3d807fc9-e8df-4f97-971e-18a94e473956",
   "metadata": {},
   "outputs": [
    {
     "data": {
      "text/html": [
       "<div>\n",
       "<style scoped>\n",
       "    .dataframe tbody tr th:only-of-type {\n",
       "        vertical-align: middle;\n",
       "    }\n",
       "\n",
       "    .dataframe tbody tr th {\n",
       "        vertical-align: top;\n",
       "    }\n",
       "\n",
       "    .dataframe thead th {\n",
       "        text-align: right;\n",
       "    }\n",
       "</style>\n",
       "<table border=\"1\" class=\"dataframe\">\n",
       "  <thead>\n",
       "    <tr style=\"text-align: right;\">\n",
       "      <th></th>\n",
       "      <th>race</th>\n",
       "      <th>age</th>\n",
       "    </tr>\n",
       "  </thead>\n",
       "  <tbody>\n",
       "    <tr>\n",
       "      <th>0</th>\n",
       "      <td>black</td>\n",
       "      <td>51</td>\n",
       "    </tr>\n",
       "    <tr>\n",
       "      <th>1</th>\n",
       "      <td>white</td>\n",
       "      <td>49</td>\n",
       "    </tr>\n",
       "    <tr>\n",
       "      <th>2</th>\n",
       "      <td>hispanic</td>\n",
       "      <td>51</td>\n",
       "    </tr>\n",
       "    <tr>\n",
       "      <th>3</th>\n",
       "      <td>white</td>\n",
       "      <td>48</td>\n",
       "    </tr>\n",
       "    <tr>\n",
       "      <th>4</th>\n",
       "      <td>asian</td>\n",
       "      <td>56</td>\n",
       "    </tr>\n",
       "    <tr>\n",
       "      <th>...</th>\n",
       "      <td>...</td>\n",
       "      <td>...</td>\n",
       "    </tr>\n",
       "    <tr>\n",
       "      <th>995</th>\n",
       "      <td>white</td>\n",
       "      <td>47</td>\n",
       "    </tr>\n",
       "    <tr>\n",
       "      <th>996</th>\n",
       "      <td>asian</td>\n",
       "      <td>40</td>\n",
       "    </tr>\n",
       "    <tr>\n",
       "      <th>997</th>\n",
       "      <td>white</td>\n",
       "      <td>50</td>\n",
       "    </tr>\n",
       "    <tr>\n",
       "      <th>998</th>\n",
       "      <td>white</td>\n",
       "      <td>51</td>\n",
       "    </tr>\n",
       "    <tr>\n",
       "      <th>999</th>\n",
       "      <td>hispanic</td>\n",
       "      <td>43</td>\n",
       "    </tr>\n",
       "  </tbody>\n",
       "</table>\n",
       "<p>1000 rows × 2 columns</p>\n",
       "</div>"
      ],
      "text/plain": [
       "         race  age\n",
       "0       black   51\n",
       "1       white   49\n",
       "2    hispanic   51\n",
       "3       white   48\n",
       "4       asian   56\n",
       "..        ...  ...\n",
       "995     white   47\n",
       "996     asian   40\n",
       "997     white   50\n",
       "998     white   51\n",
       "999  hispanic   43\n",
       "\n",
       "[1000 rows x 2 columns]"
      ]
     },
     "execution_count": 24,
     "metadata": {},
     "output_type": "execute_result"
    }
   ],
   "source": [
    "voter_frame"
   ]
  },
  {
   "cell_type": "code",
   "execution_count": 25,
   "id": "e0a33536-4575-4a26-aa74-ae5ec4a9c29d",
   "metadata": {},
   "outputs": [
    {
     "data": {
      "text/plain": [
       "F_onewayResult(statistic=1.7744689357329695, pvalue=0.13173183201930463)"
      ]
     },
     "execution_count": 25,
     "metadata": {},
     "output_type": "execute_result"
    }
   ],
   "source": [
    "# Perform the ANOVA\n",
    "stats.f_oneway(asian, black, hispanic, other, white)"
   ]
  },
  {
   "cell_type": "code",
   "execution_count": null,
   "id": "683c6e26-d3a1-41c9-9162-3ad3e148569d",
   "metadata": {},
   "outputs": [],
   "source": [
    "!pip install statsmodels"
   ]
  },
  {
   "cell_type": "code",
   "execution_count": null,
   "id": "66245235-d329-44d8-a3ba-3e1a315e0fa7",
   "metadata": {},
   "outputs": [],
   "source": []
  },
  {
   "cell_type": "code",
   "execution_count": 26,
   "id": "b4c74a48-410d-4063-8997-f087bfb13102",
   "metadata": {},
   "outputs": [
    {
     "name": "stdout",
     "output_type": "stream",
     "text": [
      "             sum_sq     df         F    PR(>F)\n",
      "race        199.369    4.0  1.774469  0.131732\n",
      "Residual  27948.102  995.0       NaN       NaN\n"
     ]
    }
   ],
   "source": [
    "import statsmodels.api as sm\n",
    "from statsmodels.formula.api import ols\n",
    "\n",
    "model = ols('age ~ race',                 # Model formula\n",
    "            data = voter_frame).fit()\n",
    "                \n",
    "anova_result = sm.stats.anova_lm(model, typ=2)\n",
    "print (anova_result)"
   ]
  },
  {
   "cell_type": "code",
   "execution_count": null,
   "id": "ff5558dd-7040-4141-989d-5c49a2cdc42a",
   "metadata": {},
   "outputs": [],
   "source": [
    "#annova  testing using poison distribution data"
   ]
  },
  {
   "cell_type": "code",
   "execution_count": 27,
   "id": "55208588-2996-450f-b208-6c74d58371cd",
   "metadata": {},
   "outputs": [
    {
     "data": {
      "text/plain": [
       "F_onewayResult(statistic=10.164699828386366, pvalue=4.5613242113994585e-08)"
      ]
     },
     "execution_count": 27,
     "metadata": {},
     "output_type": "execute_result"
    }
   ],
   "source": [
    "np.random.seed(12)\n",
    "\n",
    "# Generate random data\n",
    "voter_race = np.random.choice(a= races,\n",
    "                              p = [0.05, 0.15 ,0.25, 0.05, 0.5],\n",
    "                              size=1000)\n",
    "\n",
    "# Use a different distribution for white ages\n",
    "white_ages = stats.poisson.rvs(loc=18, \n",
    "                              mu=32,\n",
    "                              size=1000)\n",
    "\n",
    "voter_age = stats.poisson.rvs(loc=18,\n",
    "                              mu=30,\n",
    "                              size=1000)\n",
    "\n",
    "voter_age = np.where(voter_race==\"white\", white_ages, voter_age)\n",
    "\n",
    "# Group age data by race\n",
    "voter_frame = pd.DataFrame({\"race\":voter_race,\"age\":voter_age})\n",
    "groups = voter_frame.groupby(\"race\").groups   \n",
    "\n",
    "# Extract individual groups\n",
    "asian = voter_age[groups[\"asian\"]]\n",
    "black = voter_age[groups[\"black\"]]\n",
    "hispanic = voter_age[groups[\"hispanic\"]]\n",
    "other = voter_age[groups[\"other\"]]\n",
    "white = voter_age[groups[\"white\"]]\n",
    "\n",
    "# Perform the ANOVA\n",
    "stats.f_oneway(asian, black, hispanic, other, white)"
   ]
  },
  {
   "cell_type": "code",
   "execution_count": 28,
   "id": "4e7ddea1-2c4f-4958-8267-757735f51301",
   "metadata": {},
   "outputs": [
    {
     "name": "stdout",
     "output_type": "stream",
     "text": [
      "                sum_sq     df        F        PR(>F)\n",
      "race       1284.123213    4.0  10.1647  4.561324e-08\n",
      "Residual  31424.995787  995.0      NaN           NaN\n"
     ]
    }
   ],
   "source": [
    "# Alternate method\n",
    "model = ols('age ~ race',                 # Model formula\n",
    "            data = voter_frame).fit()\n",
    "                \n",
    "anova_result = sm.stats.anova_lm(model,typ = 2)\n",
    "print (anova_result)"
   ]
  },
  {
   "cell_type": "code",
   "execution_count": null,
   "id": "431d0669-8131-4c00-b054-f4babe716f39",
   "metadata": {},
   "outputs": [],
   "source": [
    "# The test result suggests the groups don't have the same sample means in this case, since the p-value is significant at a 99% confidence level. We know that it is the white voters who differ because we set it up that way in the code, but when testing real data, you may not know which group(s) caused the test to throw a positive result. To check which groups differ after getting a positive ANOVA result, you can perform a follow up test or \"post-hoc test\".\n",
    "\n",
    "# One post-hoc test is to perform a separate t-test for each pair of groups. You can perform a t-test between all pairs using by running each pair through the stats.ttest_ind() we covered in the lesson on t-tests:"
   ]
  }
 ],
 "metadata": {
  "kernelspec": {
   "display_name": "Python 3 (ipykernel)",
   "language": "python",
   "name": "python3"
  },
  "language_info": {
   "codemirror_mode": {
    "name": "ipython",
    "version": 3
   },
   "file_extension": ".py",
   "mimetype": "text/x-python",
   "name": "python",
   "nbconvert_exporter": "python",
   "pygments_lexer": "ipython3",
   "version": "3.11.7"
  }
 },
 "nbformat": 4,
 "nbformat_minor": 5
}
